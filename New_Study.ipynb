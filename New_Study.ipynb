{
  "nbformat": 4,
  "nbformat_minor": 0,
  "metadata": {
    "colab": {
      "provenance": []
    },
    "kernelspec": {
      "name": "python3",
      "display_name": "Python 3"
    },
    "language_info": {
      "name": "python"
    }
  },
  "cells": [
    {
      "cell_type": "markdown",
      "source": [
        "• Kullanıcıdan pi değeri ve yarıçap bilgisi alarak dairenin alanını hesaplayan bir fonksiyon oluşturulur.\n",
        "\n",
        "\n",
        "• Faktöriyel adında fonksiyon oluşturulur. Döngü kullanarak parametre olarak girilen sayının faktöriyeli hesaplanır. Format metodunu kullanılarak ekrana yazdırılır.\n",
        "\n",
        "\n",
        "• Kişinin fonksiyona doğum yılını vererek kaç yaşında olduğunu hesaplayan bir fonksiyon oluşturun.\n",
        "\n",
        "\n",
        "• Doğum yılı ve isim bilgisi verilen fonksiyon kişinin emekli olup olmadığını söylesin.(Kişi 65 yaşında ise emekli olur.) Burada yaş hesabını yukarıdaki örnekteki fonksiyonu kullanarak yapsın.(Yani fonksiyon içinde fonksiyon kullanmanızı istiyorum :)) Kişi 65 yaşında ya da daha fazlaysa \"Emekli oldunuz\" yanıtını, 65 yaşından küçükse emekliliğine kaç yıl kaldığını da hesaplayarak \"(isim) emekliliğine (yıl) kaldı.\" yanıtını versin."
      ],
      "metadata": {
        "id": "7ew1DLzMpy-p"
      }
    },
    {
      "cell_type": "code",
      "execution_count": null,
      "metadata": {
        "colab": {
          "base_uri": "https://localhost:8080/"
        },
        "id": "oovIf408o0vu",
        "outputId": "a0bbf73f-9181-42c7-e90a-c71fc843e61b"
      },
      "outputs": [
        {
          "output_type": "stream",
          "name": "stdout",
          "text": [
            "Pi değerini giriniz: 3\n",
            "Yarıçap değerini giriniz: 5\n",
            "Dairenizin alanı: 75.0\n"
          ]
        }
      ],
      "source": [
        "# Kullanıcıdan pi değeri ve yarıçap bilgisi alarak dairenin alanını hesaplayan bir fonksiyon oluşturulur.\n",
        "\n",
        "def daire_alani (pi, r):\n",
        "    alan = pi*r**2\n",
        "    return alan\n",
        "\n",
        "pi = float(input(\"Pi değerini giriniz: \"))\n",
        "r = float(input(\"Yarıçap değerini giriniz: \"))\n",
        "\n",
        "alan = daire_alani (pi,r)\n",
        "print (\"Dairenizin alanı:\", alan)\n",
        "\n"
      ]
    },
    {
      "cell_type": "code",
      "source": [
        "# Faktöriyel adında fonksiyon oluşturulur.\n",
        "# Döngü kullanarak parametre olarak girilen sayının faktöriyeli hesaplanır.\n",
        "# Format metodunu kullanılarak ekrana yazdırılır.\n",
        "\n",
        "def faktoriyel(sayi):\n",
        "     if sayi <0:\n",
        "       return (\"Negatif sayıların faktöriyeli hesaplanamaz.\")\n",
        "\n",
        "     faktoriyel_sonucu = 1\n",
        "     for i in range(1, sayi + 1): #1'den sayıya kadar olması için sayi+1\n",
        "         faktoriyel_sonucu *= i\n",
        "     return faktoriyel_sonucu\n",
        "\n",
        "\n",
        "sayi = int(input(\"Faktöriyelini hesaplamak istediğiniz sayıyı giriniz: \"))\n",
        "sonuc = faktoriyel(sayi)\n",
        "print(\"Faktöriyel hesaplama sonucu: {}\".format(sonuc))\n",
        "\n"
      ],
      "metadata": {
        "id": "Xb8C2x_wvGmm",
        "outputId": "9abd95ea-7ca0-4617-aaaf-95b597bbbf7c",
        "colab": {
          "base_uri": "https://localhost:8080/"
        }
      },
      "execution_count": null,
      "outputs": [
        {
          "output_type": "stream",
          "name": "stdout",
          "text": [
            "Faktöriyelini hesaplamak istediğiniz sayıyı giriniz: 3\n",
            "Faktöriyel hesaplama sonucu: 6\n"
          ]
        }
      ]
    },
    {
      "cell_type": "code",
      "source": [
        "#Kişinin fonksiyona doğum yılını vererek kaç yaşında olduğunu\n",
        "#hesaplayan bir fonksiyon oluşturun.\n",
        "\n",
        "#fonksiyon adımız yas_hesapla\n",
        "#fonksiyona alınıp işlemde kullanılacak olan parametre dogum_yılı\n",
        "# mevcut yıl şu anki yıl\n",
        "# yas, doğum yılı ve mevcut yıl arasındaki farka eşit\n",
        "# doğum yılı girildiğinde yas değeri çıktı olarak geri döndürülecek return ile\n",
        "# doğum yılı da kullanıcıdan alınır\n",
        "# yas değeri hesaplanır\n",
        "\n",
        "def yas_hesapla(dogum_yili):\n",
        "    mevcut_yil = 2024\n",
        "    yas = mevcut_yil - dogum_yili\n",
        "    return yas\n",
        "\n",
        "dogum_yili = int(input(\"Doğum yılınızı girin: \"))\n",
        "yas = yas_hesapla(dogum_yili)\n",
        "print(\"Yaşınız:\", yas)"
      ],
      "metadata": {
        "id": "ZYjDCdSr2S26",
        "colab": {
          "base_uri": "https://localhost:8080/"
        },
        "outputId": "573e0575-32d8-4c65-fdea-615646863bc2"
      },
      "execution_count": null,
      "outputs": [
        {
          "output_type": "stream",
          "name": "stdout",
          "text": [
            "Doğum yılınızı girin: 1981\n",
            "Yaşınız: 43\n"
          ]
        }
      ]
    },
    {
      "cell_type": "code",
      "source": [
        "# Doğum yılı ve isim bilgisi verilen fonksiyon kişinin\n",
        "# emekli olup olmadığını söylesin.(Kişi 65 yaşında ise emekli olur.)\n",
        "# Burada yaş hesabını yukarıdaki örnekteki fonksiyonu kullanarak yapsın.\n",
        "#(Yani fonksiyon içinde fonksiyon kullanmanızı istiyorum :))\n",
        "#Kişi 65 yaşında ya da daha fazlaysa \"Emekli oldunuz\" yanıtını,\n",
        "#65 yaşından küçükse emekliliğine kaç yıl kaldığını da hesaplayarak\n",
        "# \"(isim) emekliliğine (yıl) kaldı.\" yanıtını versin.\n",
        "\n",
        "def yas_hesapla(dogum_yili):\n",
        "    mevcut_yil = 2024\n",
        "    return mevcut_yil - dogum_yili\n",
        "    # buraya kadar yaş fonksiyonu yazıldı\n",
        "\n",
        "ad= input (\"Adınızı giriniz: \")\n",
        "dogum_yili = int(input(\"Doğum yılınızı girin: \"))\n",
        "yas = yas_hesapla(dogum_yili)\n",
        "print(\"Yaşınız:\", yas)\n",
        "# burada isim alındı ve yaş fonksiyonuyla yaş hesaplandı\n",
        "\n",
        "if yas >= 65:\n",
        "    print(\"Emekli oldunuz.\")\n",
        "else:\n",
        "    kalan_yil = 65 - yas\n",
        "    print(f\"Sayın {ad}, emekliliğinize {kalan_yil} yıl kaldı\")\n",
        "# if else ile emekliliği hesaplandı yaşa göre\n",
        "\n"
      ],
      "metadata": {
        "colab": {
          "base_uri": "https://localhost:8080/"
        },
        "id": "cnboe4uBUJc7",
        "outputId": "a75f9ae2-e205-4dd9-aaac-f51a48b04010"
      },
      "execution_count": null,
      "outputs": [
        {
          "output_type": "stream",
          "name": "stdout",
          "text": [
            "Adınızı giriniz: lşkjklşj\n",
            "Doğum yılınızı girin: 1950\n",
            "Yaşınız: 74\n",
            "Emekli oldunuz.\n"
          ]
        }
      ]
    }
  ]
}